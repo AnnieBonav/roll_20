{
 "cells": [
  {
   "cell_type": "markdown",
   "id": "ceff120a",
   "metadata": {},
   "source": [
    "## Splitting by chapters!"
   ]
  },
  {
   "cell_type": "markdown",
   "id": "a24400bc",
   "metadata": {},
   "source": [
    "\n",
    "### Splitting by chapters is CRUCIAL for any processing of large documents, like books!\n",
    "It allows to:\n",
    "- Organize the content into logical, meaningful sections.  \n",
    "- Enable targeted retrieval, summarization, or question answering by chapter.  \n",
    "- Prevent mixing unrelated content, which improves the quality of any analysis or AI stuff.  \n",
    "- Make the data easier to navigate, visualize, and debug(!).  \n",
    "### Without accurate chapter splitting, all subsequent processing (chunking, embedding, RAG, etc.) will be less effective and may produce confusing or irrelevant results.\n",
    "#### But let it be noted that as long as you have chunked text, it should be enough for any preliminar stuff!"
   ]
  },
  {
   "cell_type": "code",
   "execution_count": null,
   "id": "a68ee627",
   "metadata": {},
   "outputs": [],
   "source": [
    "import re\n",
    "import PyPDF2\n",
    "import pandas as pd\n",
    "import json\n",
    "import os"
   ]
  },
  {
   "cell_type": "code",
   "execution_count": null,
   "id": "a8ad7657",
   "metadata": {},
   "outputs": [],
   "source": [
    "output_folder = \"./output_chapters/\"\n",
    "# If it doesn't exist, create it\n",
    "if not os.path.exists(output_folder):\n",
    "    os.makedirs(output_folder)"
   ]
  },
  {
   "cell_type": "code",
   "execution_count": null,
   "id": "7ba6bdd4",
   "metadata": {},
   "outputs": [],
   "source": [
    "# Function to read PDF and extract text\n",
    "def pdf_to_text(pdf_path, start_page=0):\n",
    "    text = \"\"\n",
    "    with open(pdf_path, \"rb\") as file:\n",
    "        reader = PyPDF2.PdfReader(file)\n",
    "        # Loop from start_page to the end\n",
    "        for page in reader.pages[start_page:]:\n",
    "            text += page.extract_text() + \"\\n\"\n",
    "    return text"
   ]
  },
  {
   "cell_type": "code",
   "execution_count": null,
   "id": "0257589f",
   "metadata": {},
   "outputs": [],
   "source": [
    "def split_text_by_chapters(text):\n",
    "    # Regex to match lines like \"Chapter 1: Title\" or \"Chapter 2 Title\"\n",
    "    pattern = r'(?im)^(Chapter\\s+(\\d+)[^\\n]*)$'\n",
    "    matches = list(re.finditer(pattern, text))\n",
    "    chapters = []\n",
    "    for i, match in enumerate(matches):\n",
    "        chapter_line = match.group(1).strip()\n",
    "        chapter_num = match.group(2)\n",
    "        start = match.end()\n",
    "        end = matches[i+1].start() if i+1 < len(matches) else len(text)\n",
    "        content = text[start:end].strip()\n",
    "        chapters.append({\n",
    "            \"chapter_number\": chapter_num,\n",
    "            \"chapter_title\": chapter_line,\n",
    "            \"content\": content\n",
    "        })\n",
    "    return chapters"
   ]
  },
  {
   "cell_type": "code",
   "execution_count": null,
   "id": "34909a33",
   "metadata": {},
   "outputs": [],
   "source": [
    "def split_text_by_chapters(text):\n",
    "    # Regex: \"chapter\" (with optional spaces), number, optional spaces, colon (with optional spaces), then title\n",
    "    # Allow optional non-word chars or digits before \"chapter\" (to handle cases like \"20 10 1Ch apter  5: E q u ipm en t\")\n",
    "    pattern = r'(?im)^.*?(?:[Cc]\\s*[Hh]\\s*[Aa]\\s*[Pp]\\s*[Tt]\\s*[Ee]\\s*[Rr])\\s*(\\d+)\\s*:\\s*[^\\n]*$'\n",
    "    matches = list(re.finditer(pattern, text, re.MULTILINE))\n",
    "    chapters = []\n",
    "    expected_chapter = 1\n",
    "    last_chapter = None\n",
    "\n",
    "    # Handle introduction (everything before first chapter)\n",
    "    if matches and matches[0].start() > 0:\n",
    "        intro_content = text[:matches[0].start()].strip()\n",
    "        if intro_content:\n",
    "            chapters.append({\n",
    "                \"chapter_number\": \"introduction\",\n",
    "                \"chapter_title\": \"Introduction\",\n",
    "                \"content\": intro_content\n",
    "            })\n",
    "\n",
    "    for i, match in enumerate(matches):\n",
    "        # Find the full matched line for the chapter title\n",
    "        line_start = text.rfind('\\n', 0, match.start()) + 1\n",
    "        line_end = text.find('\\n', match.start())\n",
    "        if line_end == -1:\n",
    "            line_end = len(text)\n",
    "        chapter_line = text[line_start:line_end].strip()\n",
    "        chapter_num = int(match.group(1))\n",
    "        # Check for sequential chapter numbers\n",
    "        if chapter_num != expected_chapter:\n",
    "            raise ValueError(\n",
    "                f\"Expected Chapter {expected_chapter} after Chapter {last_chapter}, but found Chapter {chapter_num}\"\n",
    "            )\n",
    "        last_chapter = chapter_num\n",
    "        expected_chapter += 1\n",
    "        start = match.end()\n",
    "        end = matches[i+1].start() if i+1 < len(matches) else len(text)\n",
    "        content = text[start:end].strip()\n",
    "        chapters.append({\n",
    "            \"chapter_number\": str(chapter_num),\n",
    "            \"chapter_title\": chapter_line,\n",
    "            \"content\": content\n",
    "        })\n",
    "    return chapters"
   ]
  },
  {
   "cell_type": "code",
   "execution_count": null,
   "id": "5a1bdbef",
   "metadata": {},
   "outputs": [],
   "source": [
    "pattern = r'(?im)^((?:[Cc]\\s*)?(?:[Hh]\\s*)?(?:[Aa]\\s*)?(?:[Pp]\\s*)?(?:[Tt]\\s*)?(?:[Ee]\\s*)?(?:[Rr]\\s*)\\s*(\\d+)(?:\\s|:)[^\\n]*)$'\n",
    "test_text = \"\"\"\n",
    "355,000 20 +6\n",
    "\n",
    "Ch apter  2: R aces\n",
    "A  VISIT TO ONE OF TH\n",
    "\"\"\"\n",
    "\n",
    "matches = list(re.finditer(pattern, test_text, re.MULTILINE))\n",
    "for m in matches:\n",
    "    print(\"MATCH:\", m.group(1))"
   ]
  },
  {
   "cell_type": "code",
   "execution_count": null,
   "id": "732ab772",
   "metadata": {},
   "outputs": [],
   "source": [
    "all_book_pdf_path = \"./resources/DNDPlayersHandbook.pdf\"\n",
    "all_book_raw_text = pdf_to_text(pdf_path=all_book_pdf_path, start_page=2)"
   ]
  },
  {
   "cell_type": "code",
   "execution_count": null,
   "id": "079971a3",
   "metadata": {},
   "outputs": [],
   "source": [
    "# save the raw text to a file for reference\n",
    "with open(output_folder + \"all_book_raw_text.txt\", \"w\") as f:\n",
    "    f.write(all_book_raw_text)"
   ]
  },
  {
   "cell_type": "code",
   "execution_count": null,
   "id": "0584246b",
   "metadata": {},
   "outputs": [],
   "source": [
    "chapters = split_text_by_chapters(all_book_raw_text)\n",
    "df_chapters = pd.DataFrame(chapters)\n",
    "df_chapters.to_csv(output_folder + \"chapters.csv\", index=False)\n",
    "print(df_chapters.head())"
   ]
  },
  {
   "cell_type": "code",
   "execution_count": null,
   "id": "53321be4",
   "metadata": {},
   "outputs": [],
   "source": [
    "# Build the dictionary: chapter number as key, value is dict with title and content\n",
    "chapters_dict = {\n",
    "    chapter[\"chapter_number\"]: {\n",
    "        \"title\": chapter[\"chapter_title\"],\n",
    "        \"content\": chapter[\"content\"]\n",
    "    }\n",
    "    for chapter in chapters\n",
    "}\n",
    "\n",
    "# Save to JSON\n",
    "with open(output_folder + \"chapters.json\", \"w\", encoding=\"utf-8\") as f:\n",
    "    json.dump(chapters_dict, f, ensure_ascii=False, indent=2)"
   ]
  },
  {
   "cell_type": "code",
   "execution_count": null,
   "id": "b1ce96a0",
   "metadata": {},
   "outputs": [],
   "source": [
    "# Uncomment to print the first two chapters for verification\n",
    "# print(json.dumps({k: chapters_dict[k] for k in list(chapters_dict)[:2]}, indent=2))"
   ]
  }
 ],
 "metadata": {
  "kernelspec": {
   "display_name": "roll_20",
   "language": "python",
   "name": "python3"
  },
  "language_info": {
   "codemirror_mode": {
    "name": "ipython",
    "version": 3
   },
   "file_extension": ".py",
   "mimetype": "text/x-python",
   "name": "python",
   "nbconvert_exporter": "python",
   "pygments_lexer": "ipython3",
   "version": "3.12.11"
  }
 },
 "nbformat": 4,
 "nbformat_minor": 5
}
