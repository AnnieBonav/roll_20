{
 "cells": [
  {
   "cell_type": "code",
   "execution_count": null,
   "id": "b984302a",
   "metadata": {},
   "outputs": [],
   "source": [
    "import json\n",
    "import os\n",
    "import re"
   ]
  },
  {
   "cell_type": "code",
   "execution_count": null,
   "id": "bb002ff0",
   "metadata": {},
   "outputs": [],
   "source": [
    "chapters_file_path = \"./output/chapters.json\"\n",
    "if not os.path.exists(chapters_file_path):\n",
    "    print(f\"File {chapters_file_path} does not exist.\")\n",
    "    raise SystemExit(1)\n",
    "\n",
    "with open(chapters_file_path, 'r') as file:\n",
    "    data = json.load(file)\n",
    "\n",
    "for chapter in data.values():\n",
    "    title = chapter.get('title', 'No Title')\n",
    "    content = chapter.get('content', '')\n",
    "    content = re.sub(r'\\n+', '\\n', content).strip()\n",
    "    print(f\"Title: {title}\\nContent:\\n{content}\\n\")"
   ]
  }
 ],
 "metadata": {
  "kernelspec": {
   "display_name": "roll_20",
   "language": "python",
   "name": "python3"
  },
  "language_info": {
   "codemirror_mode": {
    "name": "ipython",
    "version": 3
   },
   "file_extension": ".py",
   "mimetype": "text/x-python",
   "name": "python",
   "nbconvert_exporter": "python",
   "pygments_lexer": "ipython3",
   "version": "3.12.11"
  }
 },
 "nbformat": 4,
 "nbformat_minor": 5
}
