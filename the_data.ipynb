{
 "cells": [
  {
   "cell_type": "markdown",
   "id": "9d05fedc",
   "metadata": {},
   "source": [
    "# Demistifying RAG\n",
    "## And how I prove that it is way more dificult writing Demistifying than RAG"
   ]
  },
  {
   "cell_type": "code",
   "execution_count": null,
   "id": "ee8da098",
   "metadata": {},
   "outputs": [],
   "source": [
    "def split_text_by_chapters(text):\n",
    "    # Regex to match lines like \"Chapter 1: Title\" or \"Chapter 2 Title\"\n",
    "    pattern = r'(?im)^(Chapter\\s+(\\d+)[^\\n]*)$'\n",
    "    matches = list(re.finditer(pattern, text))\n",
    "    chapters = []\n",
    "    for i, match in enumerate(matches):\n",
    "        chapter_line = match.group(1).strip()\n",
    "        chapter_num = match.group(2)\n",
    "        start = match.end()\n",
    "        end = matches[i+1].start() if i+1 < len(matches) else len(text)\n",
    "        content = text[start:end].strip()\n",
    "        chapters.append({\n",
    "            \"chapter_number\": chapter_num,\n",
    "            \"chapter_title\": chapter_line,\n",
    "            \"content\": content\n",
    "        })\n",
    "    return chapters"
   ]
  },
  {
   "cell_type": "code",
   "execution_count": null,
   "id": "065421e7",
   "metadata": {},
   "outputs": [],
   "source": [
    "def split_text_by_chapters(text):\n",
    "    import re\n",
    "    # Regex: \"chapter\" (with optional spaces), number, optional spaces, colon (with optional spaces), then title\n",
    "    # Allow optional non-word chars or digits before \"chapter\" (to handle cases like \"20 10 1Ch apter  5: E q u ipm en t\")\n",
    "    pattern = r'(?im)^.*?(?:[Cc]\\s*[Hh]\\s*[Aa]\\s*[Pp]\\s*[Tt]\\s*[Ee]\\s*[Rr])\\s*(\\d+)\\s*:\\s*[^\\n]*$'\n",
    "    matches = list(re.finditer(pattern, text, re.MULTILINE))\n",
    "    chapters = []\n",
    "    expected_chapter = 1\n",
    "    last_chapter = None\n",
    "\n",
    "    # Handle introduction (everything before first chapter)\n",
    "    if matches and matches[0].start() > 0:\n",
    "        intro_content = text[:matches[0].start()].strip()\n",
    "        if intro_content:\n",
    "            chapters.append({\n",
    "                \"chapter_number\": \"introduction\",\n",
    "                \"chapter_title\": \"Introduction\",\n",
    "                \"content\": intro_content\n",
    "            })\n",
    "\n",
    "    for i, match in enumerate(matches):\n",
    "        # Find the full matched line for the chapter title\n",
    "        line_start = text.rfind('\\n', 0, match.start()) + 1\n",
    "        line_end = text.find('\\n', match.start())\n",
    "        if line_end == -1:\n",
    "            line_end = len(text)\n",
    "        chapter_line = text[line_start:line_end].strip()\n",
    "        chapter_num = int(match.group(1))\n",
    "        # Check for sequential chapter numbers\n",
    "        if chapter_num != expected_chapter:\n",
    "            raise ValueError(\n",
    "                f\"Expected Chapter {expected_chapter} after Chapter {last_chapter}, but found Chapter {chapter_num}\"\n",
    "            )\n",
    "        last_chapter = chapter_num\n",
    "        expected_chapter += 1\n",
    "        start = match.end()\n",
    "        end = matches[i+1].start() if i+1 < len(matches) else len(text)\n",
    "        content = text[start:end].strip()\n",
    "        chapters.append({\n",
    "            \"chapter_number\": str(chapter_num),\n",
    "            \"chapter_title\": chapter_line,\n",
    "            \"content\": content\n",
    "        })\n",
    "    return chapters\n",
    "# filepath: /Users/annie/dev/roll_20/roll_20.ipynb"
   ]
  },
  {
   "cell_type": "code",
   "execution_count": null,
   "id": "66ef99b4",
   "metadata": {},
   "outputs": [],
   "source": [
    "import re\n",
    "\n",
    "pattern = r'(?im)^((?:[Cc]\\s*)?(?:[Hh]\\s*)?(?:[Aa]\\s*)?(?:[Pp]\\s*)?(?:[Tt]\\s*)?(?:[Ee]\\s*)?(?:[Rr]\\s*)\\s*(\\d+)(?:\\s|:)[^\\n]*)$'\n",
    "test_text = \"\"\"\n",
    "355,000 20 +6\n",
    "\n",
    "Ch apter  2: R aces\n",
    "A  VISIT TO ONE OF TH\n",
    "\"\"\"\n",
    "\n",
    "matches = list(re.finditer(pattern, test_text, re.MULTILINE))\n",
    "for m in matches:\n",
    "    print(\"MATCH:\", m.group(1))"
   ]
  },
  {
   "cell_type": "code",
   "execution_count": null,
   "id": "442a4758",
   "metadata": {},
   "outputs": [],
   "source": [
    "all_book_pdf_path = \"./resources/DNDPlayersHandbook.pdf\"\n",
    "all_book_raw_text = pdf_to_text(pdf_path=all_book_pdf_path, start_page=2)"
   ]
  },
  {
   "cell_type": "code",
   "execution_count": null,
   "id": "fe3ed3a2",
   "metadata": {},
   "outputs": [],
   "source": [
    "# save the raw text to a file for reference\n",
    "with open(output_folder + \"all_book_raw_text.txt\", \"w\") as f:\n",
    "    f.write(all_book_raw_text)"
   ]
  },
  {
   "cell_type": "code",
   "execution_count": null,
   "id": "48ae37fa",
   "metadata": {},
   "outputs": [],
   "source": [
    "chapters = split_text_by_chapters(all_book_raw_text)\n",
    "df_chapters = pd.DataFrame(chapters)\n",
    "df_chapters.to_csv(output_folder + \"chapters.csv\", index=False)\n",
    "print(df_chapters.head())"
   ]
  },
  {
   "cell_type": "code",
   "execution_count": null,
   "id": "08f05932",
   "metadata": {},
   "outputs": [],
   "source": [
    "# Build the dictionary: chapter number as key, value is dict with title and content\n",
    "chapters_dict = {\n",
    "    chapter[\"chapter_number\"]: {\n",
    "        \"title\": chapter[\"chapter_title\"],\n",
    "        \"content\": chapter[\"content\"]\n",
    "    }\n",
    "    for chapter in chapters\n",
    "}\n",
    "\n",
    "# Save to JSON\n",
    "with open(output_folder + \"chapters.json\", \"w\", encoding=\"utf-8\") as f:\n",
    "    json.dump(chapters_dict, f, ensure_ascii=False, indent=2)"
   ]
  },
  {
   "cell_type": "code",
   "execution_count": null,
   "id": "9e640029",
   "metadata": {},
   "outputs": [],
   "source": [
    "# Uncomment to print the first two chapters for verification\n",
    "# print(json.dumps({k: chapters_dict[k] for k in list(chapters_dict)[:2]}, indent=2))"
   ]
  },
  {
   "cell_type": "markdown",
   "id": "074df364",
   "metadata": {},
   "source": [
    "## The Two Main Parts of RAG\n",
    "\n",
    "When working with Retrieval-Augmented Generation (RAG), there are two main components to consider:\n",
    "\n",
    "1. **Structuring Your Information:**  \n",
    "    The first step is to ensure your data is organized in a way that makes it easy to retrieve and use. This involves cleaning, chunking, and formatting your information so that it can be efficiently searched and referenced.\n",
    "\n",
    "2. **Choosing What to Send:**  \n",
    "    Once your data is well-structured, the next challenge is deciding which pieces of information to send to your model or downstream process. This selection step is crucial for maximizing relevance and performance.\n",
    "\n",
    "---\n",
    "\n",
    "In the next section, I'll focus on strategies for choosing what information to send."
   ]
  }
 ],
 "metadata": {
  "kernelspec": {
   "display_name": "roll_20",
   "language": "python",
   "name": "python3"
  },
  "language_info": {
   "codemirror_mode": {
    "name": "ipython",
    "version": 3
   },
   "file_extension": ".py",
   "mimetype": "text/x-python",
   "name": "python",
   "nbconvert_exporter": "python",
   "pygments_lexer": "ipython3",
   "version": "3.12.11"
  }
 },
 "nbformat": 4,
 "nbformat_minor": 5
}
