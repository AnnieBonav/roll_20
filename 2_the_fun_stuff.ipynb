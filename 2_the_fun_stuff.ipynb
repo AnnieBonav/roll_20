{
 "cells": [
  {
   "cell_type": "code",
   "execution_count": null,
   "id": "b984302a",
   "metadata": {},
   "outputs": [],
   "source": [
    "import json\n",
    "import os\n",
    "import re\n",
    "from openai import OpenAI\n",
    "from dotenv import load_dotenv, find_dotenv\n",
    "\n",
    "_ = load_dotenv(find_dotenv()) # read local .env file"
   ]
  },
  {
   "cell_type": "code",
   "execution_count": null,
   "id": "bb002ff0",
   "metadata": {},
   "outputs": [],
   "source": [
    "output_folder = \"./output_chapters/\"\n",
    "chapter_file_name = \"chapter_chunks_with_info.json\"\n",
    "chapter_file_path = f\"{output_folder}{chapter_file_name}\"\n",
    "\n",
    "if not os.path.exists(chapter_file_path):\n",
    "    print(f\"File {chapter_file_path} does not exist.\")\n",
    "    raise SystemExit(1)\n",
    "\n",
    "with open(chapter_file_path, 'r') as file:\n",
    "    data = json.load(file)\n"
   ]
  },
  {
   "cell_type": "code",
   "execution_count": null,
   "id": "1910b9e8",
   "metadata": {},
   "outputs": [],
   "source": [
    "def additional_chunk_info(json_path):\n",
    "    \"\"\"\n",
    "    Reads the JSON file and calculates additional statistics about the chunks.\n",
    "    Prints the min, max, and average number of characters per chunk.\n",
    "    Also prints which chunk number has the min and max.\n",
    "    \"\"\"\n",
    "    with open(json_path, \"r\", encoding=\"utf-8\") as f:\n",
    "        data = json.load(f)\n",
    "\n",
    "    content = data.get(\"content\", {})\n",
    "    num_characters = [chunk[\"num_characters\"] for chunk in content.values()]\n",
    "    chunk_keys = list(content.keys())\n",
    "\n",
    "    if not num_characters:\n",
    "        print(\"No chunks found.\")\n",
    "        return\n",
    "\n",
    "    min_chars = min(num_characters)\n",
    "    max_chars = max(num_characters)\n",
    "    avg_chars = sum(num_characters) / len(num_characters)\n",
    "\n",
    "    min_idx = num_characters.index(min_chars)\n",
    "    max_idx = num_characters.index(max_chars)\n",
    "\n",
    "    print(f\"Minimum characters in a chunk: {min_chars} (chunk: {chunk_keys[min_idx]})\")\n",
    "    print(f\"Maximum characters in a chunk: {max_chars} (chunk: {chunk_keys[max_idx]})\")\n",
    "    print(f\"Average characters per chunk: {avg_chars:.2f}\")\n",
    "\n",
    "additional_chunk_info(os.path.join(output_folder, \"chapter_chunks_with_info.json\"))\n",
    "# This is fine cause 1000 characters are around 250 tokens, which is a good size for LLMs even if we send multiple chunks"
   ]
  },
  {
   "cell_type": "code",
   "execution_count": null,
   "id": "a210a56a",
   "metadata": {},
   "outputs": [],
   "source": [
    "# Set your OpenAI API key\n",
    "OpenAI.api_key = os.environ[\"OPENAI_API_KEY\"]"
   ]
  },
  {
   "cell_type": "code",
   "execution_count": null,
   "id": "7d90586f",
   "metadata": {},
   "outputs": [],
   "source": [
    "# Define a simple user question\n",
    "player_question = \"What name should I have if I am an elf?\"\n",
    "retrieved_context = \"\"\n",
    "print(f\"Retrieved context: {retrieved_context}\")"
   ]
  },
  {
   "cell_type": "code",
   "execution_count": null,
   "id": "dcc37e9a",
   "metadata": {},
   "outputs": [],
   "source": [
    "player_question_with_context = f'''\n",
    "You are a helpful assistant that provides answers based on the context of a fantasy world. You must use the provided context to answer the player's question.\n",
    "Player Question: {player_question}\n",
    "Context: {retrieved_context}\n",
    "'''\n",
    "\n",
    "client = OpenAI()\n",
    "\n",
    "response = client.responses.create(\n",
    "    model=\"gpt-4.1\",\n",
    "    input=f\"{player_question_with_context}\"\n",
    ")\n",
    "\n",
    "print(response.output_text)"
   ]
  }
 ],
 "metadata": {
  "kernelspec": {
   "display_name": "roll_20",
   "language": "python",
   "name": "python3"
  },
  "language_info": {
   "codemirror_mode": {
    "name": "ipython",
    "version": 3
   },
   "file_extension": ".py",
   "mimetype": "text/x-python",
   "name": "python",
   "nbconvert_exporter": "python",
   "pygments_lexer": "ipython3",
   "version": "3.12.11"
  }
 },
 "nbformat": 4,
 "nbformat_minor": 5
}
