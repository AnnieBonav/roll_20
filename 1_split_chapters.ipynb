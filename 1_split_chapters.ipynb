{
 "cells": [
  {
   "cell_type": "code",
   "execution_count": null,
   "id": "e0e0dfd2",
   "metadata": {},
   "outputs": [],
   "source": [
    "import json\n",
    "import os"
   ]
  },
  {
   "cell_type": "code",
   "execution_count": null,
   "id": "c2eb2989",
   "metadata": {},
   "outputs": [],
   "source": [
    "output_folder = \"./output_chapters/\"\n",
    "chapters_file_name = \"chapters.json\""
   ]
  },
  {
   "cell_type": "code",
   "execution_count": null,
   "id": "e095c84c",
   "metadata": {},
   "outputs": [],
   "source": [
    "chapters_file_path = output_folder + chapters_file_name\n",
    "\n",
    "# Confirm that file exists\n",
    "if not os.path.exists(chapters_file_path):\n",
    "    print(f\"Error: The file {chapters_file_path} does not exist.\")\n",
    "    exit(1)\n",
    "else:\n",
    "    print(f\"File {chapters_file_path} exists.\")\n"
   ]
  },
  {
   "cell_type": "code",
   "execution_count": null,
   "id": "c288ce32",
   "metadata": {},
   "outputs": [],
   "source": [
    "chapters = {}\n",
    "# read the json and save it as dictionary\n",
    "with open(chapters_file_path, 'r') as file:\n",
    "    try:\n",
    "        chapters = json.load(file)\n",
    "        print(\"JSON file loaded successfully.\")\n",
    "    except json.JSONDecodeError as e:\n",
    "        print(f\"Error decoding JSON: {e}\")\n",
    "        exit(1)"
   ]
  },
  {
   "cell_type": "code",
   "execution_count": null,
   "id": "53cd5bc0",
   "metadata": {},
   "outputs": [],
   "source": [
    "print(f\"Number of chapters: {len(chapters)}\")\n",
    "# Get the chapter called \"Introduction\"\n",
    "introduction_chapter = next(\n",
    "    (chapter for chapter in chapters.values() if chapter.get(\"title\") == \"Introduction\"),\n",
    "    None\n",
    ")\n",
    "\n",
    "print(f\"Introduction chapter:\\n{introduction_chapter.get('content', '')[:500]}\")"
   ]
  },
  {
   "cell_type": "markdown",
   "id": "f113dac3",
   "metadata": {},
   "source": [
    "### That is ugly\n",
    "We have the chapters, but we still have it divided by lines. We now need our chunks!"
   ]
  }
 ],
 "metadata": {
  "kernelspec": {
   "display_name": "roll_20",
   "language": "python",
   "name": "python3"
  },
  "language_info": {
   "codemirror_mode": {
    "name": "ipython",
    "version": 3
   },
   "file_extension": ".py",
   "mimetype": "text/x-python",
   "name": "python",
   "nbconvert_exporter": "python",
   "pygments_lexer": "ipython3",
   "version": "3.12.11"
  }
 },
 "nbformat": 4,
 "nbformat_minor": 5
}
